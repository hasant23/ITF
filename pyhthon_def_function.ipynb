{
  "nbformat": 4,
  "nbformat_minor": 0,
  "metadata": {
    "colab": {
      "name": "pyhthon def function.ipynb",
      "provenance": [],
      "collapsed_sections": [],
      "authorship_tag": "ABX9TyOeJJUOafBQSGRsp6USRfkU",
      "include_colab_link": true
    },
    "kernelspec": {
      "name": "python3",
      "display_name": "Python 3"
    },
    "language_info": {
      "name": "python"
    }
  },
  "cells": [
    {
      "cell_type": "markdown",
      "metadata": {
        "id": "view-in-github",
        "colab_type": "text"
      },
      "source": [
        "<a href=\"https://colab.research.google.com/github/hasant23/ITF/blob/main/pyhthon_def_function.ipynb\" target=\"_parent\"><img src=\"https://colab.research.google.com/assets/colab-badge.svg\" alt=\"Open In Colab\"/></a>"
      ]
    },
    {
      "cell_type": "code",
      "metadata": {
        "colab": {
          "base_uri": "https://localhost:8080/"
        },
        "id": "Z4qrgj5UY_0L",
        "outputId": "60a14495-5679-4c0b-e0ea-54d7d4239582"
      },
      "source": [
        "def my_function():\n",
        "  print(\"hello world\")\n",
        "my_function()"
      ],
      "execution_count": 4,
      "outputs": [
        {
          "output_type": "stream",
          "name": "stdout",
          "text": [
            "hello world\n"
          ]
        }
      ]
    },
    {
      "cell_type": "code",
      "metadata": {
        "colab": {
          "base_uri": "https://localhost:8080/"
        },
        "id": "-5fIUPvnZKJ6",
        "outputId": "2159f1df-b35e-4a17-febe-c6ab64da6593"
      },
      "source": [
        "def my_function():\n",
        "  print(\"Hello from a function\")\n",
        "\n",
        "my_function()"
      ],
      "execution_count": 3,
      "outputs": [
        {
          "output_type": "stream",
          "name": "stdout",
          "text": [
            "Hello from a function\n"
          ]
        }
      ]
    },
    {
      "cell_type": "code",
      "metadata": {
        "colab": {
          "base_uri": "https://localhost:8080/"
        },
        "id": "KH8wv4bzZaac",
        "outputId": "726abc13-c408-49ee-b549-6e60be505d1e"
      },
      "source": [
        "def my_function(fname):\n",
        "  print(fname + \"refsnes\")\n",
        "my_function(\"Emill\")  \n",
        "my_function(\"Emill\")  \n",
        "my_function(\"Emill\")  "
      ],
      "execution_count": 10,
      "outputs": [
        {
          "output_type": "stream",
          "name": "stdout",
          "text": [
            "Emillrefsnes\n",
            "Emillrefsnes\n",
            "Emillrefsnes\n"
          ]
        }
      ]
    },
    {
      "cell_type": "code",
      "metadata": {
        "colab": {
          "base_uri": "https://localhost:8080/"
        },
        "id": "ciKqjhlNaXD6",
        "outputId": "1a69a821-86fd-4f0a-8afd-e24f4521b349"
      },
      "source": [
        "def my_function(fname, Iname):\n",
        "  print(fname +\" \" +Iname)\n",
        "my_function(\"Emil\",\"refnes\")  "
      ],
      "execution_count": 16,
      "outputs": [
        {
          "output_type": "stream",
          "name": "stdout",
          "text": [
            "Emil refnes\n"
          ]
        }
      ]
    },
    {
      "cell_type": "code",
      "metadata": {
        "id": "YmgAdLsFbkM2"
      },
      "source": [
        "def my_function(fname, lname):\n",
        "  print(fname + \" \" + lname)\n",
        "my_function(\"Emil\")"
      ],
      "execution_count": null,
      "outputs": []
    },
    {
      "cell_type": "code",
      "metadata": {
        "colab": {
          "base_uri": "https://localhost:8080/"
        },
        "id": "rCOzHlkrb9Cf",
        "outputId": "0377b167-1b90-4577-bf61-2560b29b99da"
      },
      "source": [
        "def my_function(*kids):\n",
        "   print(\"the youngest child \" + kids[2])\n",
        "my_function(\"emil\", \"tobias\", \"linus\")  "
      ],
      "execution_count": 23,
      "outputs": [
        {
          "output_type": "stream",
          "name": "stdout",
          "text": [
            "the youngest child linus\n"
          ]
        }
      ]
    },
    {
      "cell_type": "code",
      "metadata": {
        "colab": {
          "base_uri": "https://localhost:8080/"
        },
        "id": "4q_0D2eicn7L",
        "outputId": "172e741b-9925-4cc0-ddec-44c5894f6338"
      },
      "source": [
        "def my_function(child3, child2, child1):\n",
        "  print(\"The youngest child is \" + child3)\n",
        "\n",
        "my_function(child1 = \"Emil\", child2 = \"Tobias\", child3 = \"Linus\")"
      ],
      "execution_count": 24,
      "outputs": [
        {
          "output_type": "stream",
          "name": "stdout",
          "text": [
            "The youngest child is Linus\n"
          ]
        }
      ]
    },
    {
      "cell_type": "code",
      "metadata": {
        "colab": {
          "base_uri": "https://localhost:8080/"
        },
        "id": "mhtDZRaKded_",
        "outputId": "9cb352ce-167f-477c-c604-267267f5d9aa"
      },
      "source": [
        "def my_function(**kid):\n",
        "  print(\"his last name is\" + kid[\"lname\"])\n",
        "my_function(fname = \"tobias\", lname = \" refnes \")  "
      ],
      "execution_count": 28,
      "outputs": [
        {
          "output_type": "stream",
          "name": "stdout",
          "text": [
            "his last name is refnes \n"
          ]
        }
      ]
    },
    {
      "cell_type": "code",
      "metadata": {
        "colab": {
          "base_uri": "https://localhost:8080/"
        },
        "id": "wdPQmMM5eNyN",
        "outputId": "51a755ff-95c8-48e7-b521-43bf80573c78"
      },
      "source": [
        "def my_function(country=\"Norway\"):\n",
        "  print(\"I am from \" + country)\n",
        "my_function(\"sweden\",\"ındia\")\n",
        "my_function() "
      ],
      "execution_count": 31,
      "outputs": [
        {
          "output_type": "stream",
          "name": "stdout",
          "text": [
            "I am from sweden\n",
            "I am from Norway\n"
          ]
        }
      ]
    },
    {
      "cell_type": "code",
      "metadata": {
        "colab": {
          "base_uri": "https://localhost:8080/"
        },
        "id": "HRvRmxm4hxLM",
        "outputId": "4078688d-f6f5-4186-8ee9-9d7f069be54f"
      },
      "source": [
        "def my_function(food):\n",
        "  for i in food:\n",
        "    print(i)\n",
        "fruits=[\"apple\", \"banana\", \"cherry\"]\n",
        "my_function(fruits)    "
      ],
      "execution_count": 36,
      "outputs": [
        {
          "output_type": "stream",
          "name": "stdout",
          "text": [
            "apple\n",
            "banana\n",
            "cherry\n"
          ]
        }
      ]
    },
    {
      "cell_type": "code",
      "metadata": {
        "colab": {
          "base_uri": "https://localhost:8080/"
        },
        "id": "0guT-ANMjzjq",
        "outputId": "3164232a-f446-446c-93f5-fb4aff2ac771"
      },
      "source": [
        "def my_function(x):\n",
        "  return 5* x\n",
        "print(my_function(3))\n",
        "print(my_function(5))  \n",
        "print(my_function(9))    "
      ],
      "execution_count": 37,
      "outputs": [
        {
          "output_type": "stream",
          "name": "stdout",
          "text": [
            "15\n",
            "25\n",
            "45\n"
          ]
        }
      ]
    },
    {
      "cell_type": "code",
      "metadata": {
        "id": "DCeWnN99kevF"
      },
      "source": [
        ""
      ],
      "execution_count": null,
      "outputs": []
    }
  ]
}