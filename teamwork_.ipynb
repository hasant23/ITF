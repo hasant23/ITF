{
  "nbformat": 4,
  "nbformat_minor": 0,
  "metadata": {
    "colab": {
      "name": "teamwork .ipynb",
      "provenance": [],
      "authorship_tag": "ABX9TyO7fQ/OSIDspDZOaWUpPzzi",
      "include_colab_link": true
    },
    "kernelspec": {
      "name": "python3",
      "display_name": "Python 3"
    },
    "language_info": {
      "name": "python"
    }
  },
  "cells": [
    {
      "cell_type": "markdown",
      "metadata": {
        "id": "view-in-github",
        "colab_type": "text"
      },
      "source": [
        "<a href=\"https://colab.research.google.com/github/hasant23/ITF/blob/main/teamwork_.ipynb\" target=\"_parent\"><img src=\"https://colab.research.google.com/assets/colab-badge.svg\" alt=\"Open In Colab\"/></a>"
      ]
    },
    {
      "cell_type": "code",
      "execution_count": 7,
      "metadata": {
        "colab": {
          "base_uri": "https://localhost:8080/"
        },
        "id": "zIOMMtYnUL-Z",
        "outputId": "1681fdef-42fb-40a7-dd80-2f9f80d32057"
      },
      "outputs": [
        {
          "output_type": "stream",
          "name": "stdout",
          "text": [
            "4 is maximum\n"
          ]
        }
      ],
      "source": [
        "def printMax(a, b):\n",
        " if a > b:\n",
        "\n",
        "   print(a, 'is maximum')\n",
        " elif a == b:\n",
        "   print(a, 'is equal to', b)\n",
        " else:\n",
        "   print(b, 'is maximum')\n",
        "printMax(3, 4)"
      ]
    },
    {
      "cell_type": "code",
      "source": [
        "x = 50\n",
        "def func(x):\n",
        " print('x is', x)\n",
        " x = 2\n",
        " print('Changed local x to', x)\n",
        "func(x)\n",
        "print('x is now', x)"
      ],
      "metadata": {
        "colab": {
          "base_uri": "https://localhost:8080/"
        },
        "id": "ZmX9BBgAUVfy",
        "outputId": "a0058ee5-1e37-4211-91ef-1e50a2a01ca5"
      },
      "execution_count": 8,
      "outputs": [
        {
          "output_type": "stream",
          "name": "stdout",
          "text": [
            "x is 50\n",
            "Changed local x to 2\n",
            "x is now 50\n"
          ]
        }
      ]
    },
    {
      "cell_type": "code",
      "source": [
        "def function1(var1=5, var2=7):\n",
        " var2=9\n",
        " var1=3\n",
        " print (var1, \" \", var2)\n",
        "function1(10,12)\n"
      ],
      "metadata": {
        "colab": {
          "base_uri": "https://localhost:8080/"
        },
        "id": "zJZ8MuTWVmv1",
        "outputId": "e5b5fd75-86a3-4b93-8f20-891444c04c1d"
      },
      "execution_count": null,
      "outputs": [
        {
          "output_type": "stream",
          "name": "stdout",
          "text": [
            "3   9\n"
          ]
        }
      ]
    }
  ]
}